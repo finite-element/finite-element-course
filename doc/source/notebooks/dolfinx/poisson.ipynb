{
 "cells": [
  {
   "cell_type": "markdown",
   "id": "e21d6130",
   "metadata": {
    "lines_to_next_cell": 3,
    "title": "Revisiting the Poisson problem (DOLFINx version)"
   },
   "source": []
  }
 ],
 "metadata": {
  "jupytext": {
   "cell_metadata_filter": "title,-all",
   "main_language": "python",
   "notebook_metadata_filter": "-all"
  }
 },
 "nbformat": 4,
 "nbformat_minor": 5
}
