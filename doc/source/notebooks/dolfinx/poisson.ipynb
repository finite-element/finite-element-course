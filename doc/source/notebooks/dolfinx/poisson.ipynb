{
 "cells": [
  {
   "cell_type": "markdown",
   "id": "8e5f2341",
   "metadata": {
    "lines_to_next_cell": 2,
    "title": "Revisiting the Poisson problem (DOLFINx version)"
   },
   "source": []
  },
  {
   "cell_type": "code",
   "execution_count": null,
   "id": "e09451f6",
   "metadata": {},
   "outputs": [],
   "source": [
    "!wget \"https://fem-on-colab.github.io/releases/fenicsx-install-real.sh\" -O \"/tmp/fenicsx-install.sh\" && bash \"/tmp/fenicsx-install.sh\"\n",
    "import dolfinx"
   ]
  }
 ],
 "metadata": {
  "jupytext": {
   "cell_metadata_filter": "title,-all",
   "main_language": "python",
   "notebook_metadata_filter": "-all"
  }
 },
 "nbformat": 4,
 "nbformat_minor": 5
}
