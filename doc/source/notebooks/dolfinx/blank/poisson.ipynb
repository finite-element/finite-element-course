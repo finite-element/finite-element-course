{
 "cells": [
  {
   "cell_type": "code",
   "execution_count": null,
   "id": "b051b189",
   "metadata": {},
   "outputs": [],
   "source": [
    "!wget \"https://fem-on-colab.github.io/releases/fenicsx-install-real.sh\" -O \"/tmp/fenicsx-install.sh\" && bash \"/tmp/fenicsx-install.sh\"\n",
    "!wget \"https://fem-on-colab.github.io/releases/gmsh-install.sh\" -O \"/tmp/gmsh-install.sh\" && bash \"/tmp/gmsh-install.sh\"\n",
    "!apt install libgl1-mesa-glx xvfb\n",
    "!pip install pyvista"
   ]
  },
  {
   "cell_type": "markdown",
   "id": "5d0e0c91",
   "metadata": {},
   "source": [
    "\n",
    "# Poisson equation\n",
    "\n",
    "This notebook is based on the introductory DOLFINx demo `demo_poisson.py`. In\n",
    "addition, it attempts to describe some of the 'magic' behind-the-scenes in a\n",
    "modern automatic finite element code.\n",
    "\n",
    "## Equation and problem definition\n",
    "\n",
    "We we solve the Poisson equation subject to both Dirichlet and Neumann\n",
    "boundary conditions\n",
    "\n",
    "$$\n",
    "\\begin{align}\n",
    "   - \\nabla^{2} u &= f \\quad {\\rm in} \\ \\Omega, \\\\\n",
    "                u &= 0 \\quad {\\rm on} \\ \\Gamma_{D}, \\\\\n",
    "                \\nabla u \\cdot n &= g \\quad {\\rm on} \\ \\Gamma_{N}. \\\\\n",
    "\\end{align}\n",
    "$$\n",
    "\n",
    "Here, $f$ and $g$ are input data and $n$ denotes the outward directed\n",
    "boundary normal. The most standard variational form of Poisson equation\n",
    "reads: find $u \\in V$ such that\n",
    "\n",
    "$$a(u, v) = L(v) \\quad \\forall \\ v \\in V,$$\n",
    "\n",
    "where $V$ will be a P1 finite element space and the bilinear and linear\n",
    "forms are defined as\n",
    "\n",
    "$$\n",
    "\\begin{align}\n",
    "a(u, v) &= \\int_{\\Omega} \\nabla u \\cdot \\nabla v \\, {\\rm d}\n",
    "x, \\\\\n",
    "L(v)    &= \\int_{\\Omega} f v \\, {\\rm d} x\n",
    "+ \\int_{\\Gamma_{N}} g v \\, {\\rm d} s.\n",
    "\\end{align}\n",
    "$$\n",
    "\n",
    "We shall consider the following definitions of the input functions, the\n",
    "domain, and the boundaries:\n",
    "\n",
    "* $\\Omega = [0,1] \\times [2,1]$ (a rectangle)\n",
    "* $\\Gamma_{D} = \\{(0, y) \\cup (1, y) \\subset \\partial \\Omega\\}$\n",
    "  (Dirichlet boundary)\n",
    "* $\\Gamma_{N} = \\{(x, 0) \\cup (x, 1) \\subset \\partial \\Omega\\}$\n",
    "  (Neumann boundary)\n",
    "* $g = \\sin(5x)$ (normal derivative on $\\Gamma_N$)\n",
    "* $f = 10\\exp(-((x - 0.5)^2 + (y - 0.5)^2) / 0.02)$ (source term in $\\Omega$)\n",
    "\n",
    "## Implementation\n",
    "\n",
    "This description goes through the implementation of a solver for the above\n",
    "described Poisson equation step-by-step.\n",
    "\n",
    "First, the necessary modules are imported:"
   ]
  },
  {
   "cell_type": "code",
   "execution_count": null,
   "id": "940f2c61",
   "metadata": {},
   "outputs": [],
   "source": [
    "import numpy as np\n",
    "\n",
    "import ufl\n",
    "from dolfinx import fem, io, mesh, plot\n",
    "from ufl import ds, dx, exp, grad, inner, sin\n",
    "\n",
    "from mpi4py import MPI\n",
    "from petsc4py.PETSc import ScalarType"
   ]
  },
  {
   "cell_type": "markdown",
   "id": "3b990e3d",
   "metadata": {
    "lines_to_next_cell": 2
   },
   "source": [
    "We begin by defining a mesh of the domain and a finite element function space\n",
    "$V$ defined on the mesh. We create a rectangular mesh using built-in function\n",
    "provided by method `create_rectangle`. In order to create a mesh consisting\n",
    "of 32 x 16 rectangles with each rectangle divided into two triangles, we do as\n",
    "follows:"
   ]
  },
  {
   "cell_type": "code",
   "execution_count": null,
   "id": "af7acbdf",
   "metadata": {},
   "outputs": [],
   "source": [
    "rectangle_mesh = mesh.create_rectangle(\n",
    "    comm=MPI.COMM_WORLD,\n",
    "    points=((0.0, 0.0), (2.0, 1.0)),\n",
    "    n=(32, 16),\n",
    "    cell_type=mesh.CellType.triangle\n",
    ")\n",
    "\n",
    "V = fem.FunctionSpace(rectangle_mesh, (\"Lagrange\", 1))"
   ]
  },
  {
   "cell_type": "markdown",
   "id": "8697122d",
   "metadata": {
    "lines_to_next_cell": 2
   },
   "source": [
    "The second argument to `FunctionSpace` is a tuple consisting of ``(family,\n",
    "degree)``, where `family` is the finite element family, and ``degree``\n",
    "specifies the polynomial degree. Thus, in this case, our space `V` consists\n",
    "of first-order continuous Lagrange finite element functions.\n",
    "\n",
    "Next, we want to consider the Dirichlet boundary condition. A simple Python\n",
    "function, returning a boolean, can be used to define the boundary for the\n",
    "Dirichlet boundary condition ($\\Gamma_D$). The function should return `True`\n",
    "for those points on the boundary and `False` for the points outside. In our\n",
    "case, we want to say that the points $(x, y)$ such that $x = 0$ or\n",
    "$x = 1$ are on $\\Gamma_D$."
   ]
  },
  {
   "cell_type": "code",
   "execution_count": null,
   "id": "d1ec3f6d",
   "metadata": {},
   "outputs": [],
   "source": [
    "# Create a function that takes an array of points x and returns an array of\n",
    "# `True` or `False` if the point is or is not on the boundary\n",
    "def marker(x): return np.logical_or(\n",
    "    np.isclose(x[0], 0.0), np.isclose(x[0], 2.0))"
   ]
  },
  {
   "cell_type": "markdown",
   "id": "37e0f1a6",
   "metadata": {
    "lines_to_next_cell": 2
   },
   "source": [
    "To identify the degrees of freedom, we first find the facets (entities of\n",
    "dimension 1) that live on the boundary of the mesh, and satisfies our\n",
    "criteria for `\\Gamma_D`."
   ]
  },
  {
   "cell_type": "code",
   "execution_count": null,
   "id": "da6f17d5",
   "metadata": {},
   "outputs": [],
   "source": [
    "# Define boundary condition on x = 0 or x = 1\n",
    "facets = mesh.locate_entities_boundary(rectangle_mesh, dim=1, marker=marker)"
   ]
  },
  {
   "cell_type": "markdown",
   "id": "d33d93d1",
   "metadata": {},
   "source": [
    "Then, we use the function `locate_dofs_topological` to identify all degrees\n",
    "of freedom that is located on those facets (including the vertices)."
   ]
  },
  {
   "cell_type": "code",
   "execution_count": null,
   "id": "2d5c5335",
   "metadata": {},
   "outputs": [],
   "source": [
    "dofs = fem.locate_dofs_topological(V=V, entity_dim=1, entities=facets)"
   ]
  },
  {
   "cell_type": "markdown",
   "id": "61d4d55a",
   "metadata": {},
   "source": [
    "The Dirichlet boundary condition can be created using the method\n",
    "`dirichletbc`. `dirichletbc` takes three arguments: the value of the boundary\n",
    "condition, the degrees of freedom on which the condition applies to, and the\n",
    "function space. The final definition of the Dirichlet boundary condition is\n",
    "then:"
   ]
  },
  {
   "cell_type": "code",
   "execution_count": null,
   "id": "834c52ff",
   "metadata": {},
   "outputs": [],
   "source": [
    "bc = fem.dirichletbc(value=ScalarType(0), dofs=dofs, V=V)"
   ]
  },
  {
   "cell_type": "markdown",
   "id": "25ab7c6d",
   "metadata": {},
   "source": [
    "Next, we want to express the variational problem.  First, we need to specify\n",
    "the trial function `u` and the test function `v`, both living in the function\n",
    "space `V`. We do this by defining a `TrialFunction` and a `TestFunction` on\n",
    "the previously defined `FunctionSpace` `V`.\n",
    "\n",
    "Further, the source $f$ and the boundary normal derivative $g$ are involved\n",
    "in the variational forms, and hence we must specify these.\n",
    "\n",
    "With these ingredients, we can write down the bilinear form `a` and\n",
    "the linear form `L` (using UFL operators). In summary, this reads"
   ]
  },
  {
   "cell_type": "code",
   "execution_count": null,
   "id": "b9ba4255",
   "metadata": {},
   "outputs": [],
   "source": [
    "# Define variational problem\n",
    "u = ufl.TrialFunction(V)\n",
    "v = ufl.TestFunction(V)\n",
    "x = ufl.SpatialCoordinate(rectangle_mesh)\n",
    "f = 10 * exp(-((x[0] - 0.5)**2 + (x[1] - 0.5)**2) / 0.02)\n",
    "g = sin(5 * x[0])\n",
    "a = inner(grad(u), grad(v)) * dx\n",
    "L = inner(f, v) * dx + inner(g, v) * ds"
   ]
  },
  {
   "cell_type": "markdown",
   "id": "4870bb12",
   "metadata": {},
   "source": [
    "Next, we initialize a solver using the `LinearProblem` class.\n",
    "This class is initialized with the arguments ``a``, ``L``, and ``bc`` as\n",
    "follows: In this problem, we use a direct LU solver from PETSc, which is\n",
    "defined through the dictionary ``petsc_options``."
   ]
  },
  {
   "cell_type": "code",
   "execution_count": null,
   "id": "08b212d7",
   "metadata": {},
   "outputs": [],
   "source": [
    "problem = fem.LinearProblem(a, L, bcs=[bc], petsc_options={\n",
    "                            \"ksp_type\": \"preonly\", \"pc_type\": \"lu\"})"
   ]
  },
  {
   "cell_type": "markdown",
   "id": "0422587f",
   "metadata": {},
   "source": [
    "Now, we have specified the variational forms and can consider the solution of\n",
    "the variational problem. The method `problem.solve()` returns a `Function`\n",
    "`uh` containing the solution. A `Function` represents a function living in a\n",
    "finite element function space."
   ]
  },
  {
   "cell_type": "code",
   "execution_count": null,
   "id": "8f17d667",
   "metadata": {},
   "outputs": [],
   "source": [
    "uh = problem.solve()"
   ]
  },
  {
   "cell_type": "markdown",
   "id": "bb097f69",
   "metadata": {},
   "source": [
    "The function `u` will be modified during the call to solve. The default\n",
    "settings for solving a variational problem have been used. However, the\n",
    "solution process can be controlled in much more detail if desired.\n",
    "\n",
    "A `Function` can be plotted and saved to file. Here, we output the solution\n",
    "to an XDMF file for later visualization and also plot it using pyvista"
   ]
  },
  {
   "cell_type": "code",
   "execution_count": null,
   "id": "5aac0be3",
   "metadata": {},
   "outputs": [],
   "source": [
    "# Save solution in XDMF format\n",
    "with io.XDMFFile(rectangle_mesh.comm, \"poisson.xdmf\", \"w\") as file:\n",
    "    file.write_mesh(rectangle_mesh)\n",
    "    file.write_function(uh)\n",
    "\n",
    "try:\n",
    "    import pyvista\n",
    "    pyvista.set_jupyter_backend(\"static\")\n",
    "    cells, types, x = plot.create_vtk_mesh(V)\n",
    "    grid = pyvista.UnstructuredGrid(cells, types, x)\n",
    "    grid.point_data[\"u\"] = uh.x.array.real\n",
    "    grid.set_active_scalars(\"u\")\n",
    "\n",
    "    plotter = pyvista.Plotter(notebook=True)\n",
    "    plotter.add_mesh(grid, show_edges=True)\n",
    "    warped = grid.warp_by_scalar()\n",
    "    plotter.add_mesh(warped)\n",
    "    plotter.show()\n",
    "except ImportError:\n",
    "    print(\"pyvista not installed\")"
   ]
  }
 ],
 "metadata": {
  "jupytext": {
   "cell_metadata_filter": "-all",
   "main_language": "python",
   "notebook_metadata_filter": "-all"
  },
  "kernelspec": {
   "display_name": "Python 3 (ipykernel)",
   "language": "python",
   "name": "python3"
  },
  "language_info": {
   "codemirror_mode": {
    "name": "ipython",
    "version": 3
   },
   "file_extension": ".py",
   "mimetype": "text/x-python",
   "name": "python",
   "nbconvert_exporter": "python",
   "pygments_lexer": "ipython3",
   "version": "3.9.10"
  }
 },
 "nbformat": 4,
 "nbformat_minor": 5
}
