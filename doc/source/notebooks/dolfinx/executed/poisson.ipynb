{
 "cells": [
  {
   "cell_type": "code",
   "execution_count": 1,
   "id": "f61fe5f1",
   "metadata": {
    "execution": {
     "iopub.execute_input": "2022-02-02T16:31:37.285562Z",
     "iopub.status.busy": "2022-02-02T16:31:37.280239Z",
     "iopub.status.idle": "2022-02-02T16:31:57.977170Z",
     "shell.execute_reply": "2022-02-02T16:31:57.976811Z"
    }
   },
   "outputs": [
    {
     "name": "stdout",
     "output_type": "stream",
     "text": [
      "--2022-02-02 16:31:37--  https://fem-on-colab.github.io/releases/fenicsx-install-real.sh\n",
      "Resolving fem-on-colab.github.io (fem-on-colab.github.io)... 185.199.108.153, 185.199.111.153, 185.199.110.153, ...\n",
      "Connecting to fem-on-colab.github.io (fem-on-colab.github.io)|185.199.108.153|:443... connected.\n",
      "HTTP request sent, awaiting response... 200 OK\n",
      "Length: 1890 (1.8K) [application/x-sh]\n",
      "Saving to: ‘/tmp/fenicsx-install.sh’\n",
      "\n",
      "/tmp/fenicsx-instal 100%[===================>]   1.85K  --.-KB/s    in 0s      \n",
      "\n",
      "2022-02-02 16:31:38 (17.8 MB/s) - ‘/tmp/fenicsx-install.sh’ saved [1890/1890]\n",
      "\n",
      "+ PYBIND11_INSTALL_SCRIPT_PATH=https://github.com/fem-on-colab/fem-on-colab.github.io/raw/e270331/releases/pybind11-install.sh\n",
      "+ [[ https://github.com/fem-on-colab/fem-on-colab.github.io/raw/e270331/releases/pybind11-install.sh == http* ]]\n",
      "+ wget https://github.com/fem-on-colab/fem-on-colab.github.io/raw/e270331/releases/pybind11-install.sh -O /tmp/pybind11-install.sh\n",
      "--2022-02-02 16:31:38--  https://github.com/fem-on-colab/fem-on-colab.github.io/raw/e270331/releases/pybind11-install.sh\n",
      "Resolving github.com (github.com)... 140.82.121.3\n",
      "Connecting to github.com (github.com)|140.82.121.3|:443... connected.\n",
      "HTTP request sent, awaiting response... 302 Found\n",
      "Location: https://raw.githubusercontent.com/fem-on-colab/fem-on-colab.github.io/e2703311727d58a58dde2766825daa6b433dc65f/releases/pybind11-install.sh [following]\n",
      "--2022-02-02 16:31:39--  https://raw.githubusercontent.com/fem-on-colab/fem-on-colab.github.io/e2703311727d58a58dde2766825daa6b433dc65f/releases/pybind11-install.sh\n",
      "Resolving raw.githubusercontent.com (raw.githubusercontent.com)... 185.199.110.133, 185.199.111.133, 185.199.108.133, ...\n",
      "Connecting to raw.githubusercontent.com (raw.githubusercontent.com)|185.199.110.133|:443... connected.\n",
      "HTTP request sent, awaiting response... 200 OK\n",
      "Length: 1007 [text/plain]\n",
      "Saving to: ‘/tmp/pybind11-install.sh’\n",
      "\n",
      "/tmp/pybind11-insta 100%[===================>]    1007  --.-KB/s    in 0s      \n",
      "\n",
      "2022-02-02 16:31:39 (40.8 MB/s) - ‘/tmp/pybind11-install.sh’ saved [1007/1007]\n",
      "\n",
      "+ PYBIND11_INSTALL_SCRIPT_PATH=/tmp/pybind11-install.sh\n",
      "+ source /tmp/pybind11-install.sh\n",
      "++ set -e\n",
      "++ set -x\n",
      "++ MPI4PY_INSTALL_SCRIPT_PATH=https://github.com/fem-on-colab/fem-on-colab.github.io/raw/704002e/releases/mpi4py-install.sh\n",
      "++ [[ https://github.com/fem-on-colab/fem-on-colab.github.io/raw/704002e/releases/mpi4py-install.sh == http* ]]\n",
      "++ wget https://github.com/fem-on-colab/fem-on-colab.github.io/raw/704002e/releases/mpi4py-install.sh -O /tmp/mpi4py-install.sh\n",
      "--2022-02-02 16:31:39--  https://github.com/fem-on-colab/fem-on-colab.github.io/raw/704002e/releases/mpi4py-install.sh\n",
      "Resolving github.com (github.com)... 140.82.121.3\n",
      "Connecting to github.com (github.com)|140.82.121.3|:443... connected.\n",
      "HTTP request sent, awaiting response... 302 Found\n",
      "Location: https://raw.githubusercontent.com/fem-on-colab/fem-on-colab.github.io/704002e3f5464358680f9c996be0d1fe27e9e9cc/releases/mpi4py-install.sh [following]\n",
      "--2022-02-02 16:31:39--  https://raw.githubusercontent.com/fem-on-colab/fem-on-colab.github.io/704002e3f5464358680f9c996be0d1fe27e9e9cc/releases/mpi4py-install.sh\n",
      "Resolving raw.githubusercontent.com (raw.githubusercontent.com)... 185.199.110.133, 185.199.111.133, 185.199.108.133, ...\n",
      "Connecting to raw.githubusercontent.com (raw.githubusercontent.com)|185.199.110.133|:443... connected.\n",
      "HTTP request sent, awaiting response... 200 OK\n",
      "Length: 1309 (1.3K) [text/plain]\n",
      "Saving to: ‘/tmp/mpi4py-install.sh’\n",
      "\n",
      "/tmp/mpi4py-install 100%[===================>]   1.28K  --.-KB/s    in 0s      \n",
      "\n",
      "2022-02-02 16:31:40 (32.3 MB/s) - ‘/tmp/mpi4py-install.sh’ saved [1309/1309]\n",
      "\n",
      "++ MPI4PY_INSTALL_SCRIPT_PATH=/tmp/mpi4py-install.sh\n",
      "++ source /tmp/mpi4py-install.sh\n",
      "+++ set -e\n",
      "+++ set -x\n",
      "+++ GCC_INSTALL_SCRIPT_PATH=https://github.com/fem-on-colab/fem-on-colab.github.io/raw/7a3dea8/releases/gcc-install.sh\n",
      "+++ [[ https://github.com/fem-on-colab/fem-on-colab.github.io/raw/7a3dea8/releases/gcc-install.sh == http* ]]\n",
      "+++ wget https://github.com/fem-on-colab/fem-on-colab.github.io/raw/7a3dea8/releases/gcc-install.sh -O /tmp/gcc-install.sh\n",
      "--2022-02-02 16:31:40--  https://github.com/fem-on-colab/fem-on-colab.github.io/raw/7a3dea8/releases/gcc-install.sh\n",
      "Resolving github.com (github.com)... 140.82.121.3\n",
      "Connecting to github.com (github.com)|140.82.121.3|:443... connected.\n",
      "HTTP request sent, awaiting response... 302 Found\n",
      "Location: https://raw.githubusercontent.com/fem-on-colab/fem-on-colab.github.io/7a3dea8ce493920882c5d454362343dcb42ae92b/releases/gcc-install.sh [following]\n",
      "--2022-02-02 16:31:40--  https://raw.githubusercontent.com/fem-on-colab/fem-on-colab.github.io/7a3dea8ce493920882c5d454362343dcb42ae92b/releases/gcc-install.sh\n",
      "Resolving raw.githubusercontent.com (raw.githubusercontent.com)... 185.199.110.133, 185.199.111.133, 185.199.108.133, ...\n",
      "Connecting to raw.githubusercontent.com (raw.githubusercontent.com)|185.199.110.133|:443... connected.\n",
      "HTTP request sent, awaiting response... 200 OK\n",
      "Length: 3325 (3.2K) [text/plain]\n",
      "Saving to: ‘/tmp/gcc-install.sh’\n",
      "\n",
      "/tmp/gcc-install.sh 100%[===================>]   3.25K  --.-KB/s    in 0s      \n",
      "\n",
      "2022-02-02 16:31:40 (15.5 MB/s) - ‘/tmp/gcc-install.sh’ saved [3325/3325]\n",
      "\n",
      "+++ GCC_INSTALL_SCRIPT_PATH=/tmp/gcc-install.sh\n",
      "+++ source /tmp/gcc-install.sh\n",
      "++++ set -e\n",
      "++++ set -x\n",
      "++++ add-apt-repository -y ppa:ubuntu-toolchain-r/test\n",
      "/tmp/gcc-install.sh: line 11: add-apt-repository: command not found\n",
      "--2022-02-02 16:31:41--  https://fem-on-colab.github.io/releases/gmsh-install.sh\n",
      "Resolving fem-on-colab.github.io (fem-on-colab.github.io)... 185.199.108.153, 185.199.111.153, 185.199.110.153, ...\n",
      "Connecting to fem-on-colab.github.io (fem-on-colab.github.io)|185.199.108.153|:443... connected.\n",
      "HTTP request sent, awaiting response... 200 OK\n",
      "Length: 1648 (1.6K) [application/x-sh]\n",
      "Saving to: ‘/tmp/gmsh-install.sh’\n",
      "\n",
      "/tmp/gmsh-install.s 100%[===================>]   1.61K  --.-KB/s    in 0s      \n",
      "\n",
      "2022-02-02 16:31:41 (25.4 MB/s) - ‘/tmp/gmsh-install.sh’ saved [1648/1648]\n",
      "\n",
      "+ H5PY_INSTALL_SCRIPT_PATH=https://github.com/fem-on-colab/fem-on-colab.github.io/raw/1fed46c/releases/h5py-install.sh\n",
      "+ [[ https://github.com/fem-on-colab/fem-on-colab.github.io/raw/1fed46c/releases/h5py-install.sh == http* ]]\n",
      "+ wget https://github.com/fem-on-colab/fem-on-colab.github.io/raw/1fed46c/releases/h5py-install.sh -O /tmp/h5py-install.sh\n",
      "--2022-02-02 16:31:41--  https://github.com/fem-on-colab/fem-on-colab.github.io/raw/1fed46c/releases/h5py-install.sh\n",
      "Resolving github.com (github.com)... 140.82.121.3\n",
      "Connecting to github.com (github.com)|140.82.121.3|:443... connected.\n",
      "HTTP request sent, awaiting response... 302 Found\n",
      "Location: https://raw.githubusercontent.com/fem-on-colab/fem-on-colab.github.io/1fed46ca47adeb3edc741d8b0987bc7b726a5033/releases/h5py-install.sh [following]\n",
      "--2022-02-02 16:31:41--  https://raw.githubusercontent.com/fem-on-colab/fem-on-colab.github.io/1fed46ca47adeb3edc741d8b0987bc7b726a5033/releases/h5py-install.sh\n",
      "Resolving raw.githubusercontent.com (raw.githubusercontent.com)... 185.199.110.133, 185.199.111.133, 185.199.108.133, ...\n",
      "Connecting to raw.githubusercontent.com (raw.githubusercontent.com)|185.199.110.133|:443... connected.\n",
      "HTTP request sent, awaiting response... 200 OK\n",
      "Length: 1065 (1.0K) [text/plain]\n",
      "Saving to: ‘/tmp/h5py-install.sh’\n",
      "\n",
      "/tmp/h5py-install.s 100%[===================>]   1.04K  --.-KB/s    in 0s      \n",
      "\n",
      "2022-02-02 16:31:41 (71.7 MB/s) - ‘/tmp/h5py-install.sh’ saved [1065/1065]\n",
      "\n",
      "+ H5PY_INSTALL_SCRIPT_PATH=/tmp/h5py-install.sh\n",
      "+ source /tmp/h5py-install.sh\n",
      "++ set -e\n",
      "++ set -x\n",
      "++ MPI4PY_INSTALL_SCRIPT_PATH=https://github.com/fem-on-colab/fem-on-colab.github.io/raw/704002e/releases/mpi4py-install.sh\n",
      "++ [[ https://github.com/fem-on-colab/fem-on-colab.github.io/raw/704002e/releases/mpi4py-install.sh == http* ]]\n",
      "++ wget https://github.com/fem-on-colab/fem-on-colab.github.io/raw/704002e/releases/mpi4py-install.sh -O /tmp/mpi4py-install.sh\n",
      "--2022-02-02 16:31:41--  https://github.com/fem-on-colab/fem-on-colab.github.io/raw/704002e/releases/mpi4py-install.sh\n",
      "Resolving github.com (github.com)... 140.82.121.3\n",
      "Connecting to github.com (github.com)|140.82.121.3|:443... connected.\n",
      "HTTP request sent, awaiting response... 302 Found\n",
      "Location: https://raw.githubusercontent.com/fem-on-colab/fem-on-colab.github.io/704002e3f5464358680f9c996be0d1fe27e9e9cc/releases/mpi4py-install.sh [following]\n",
      "--2022-02-02 16:31:41--  https://raw.githubusercontent.com/fem-on-colab/fem-on-colab.github.io/704002e3f5464358680f9c996be0d1fe27e9e9cc/releases/mpi4py-install.sh\n",
      "Resolving raw.githubusercontent.com (raw.githubusercontent.com)... 185.199.110.133, 185.199.111.133, 185.199.108.133, ...\n",
      "Connecting to raw.githubusercontent.com (raw.githubusercontent.com)|185.199.110.133|:443... connected.\n",
      "HTTP request sent, awaiting response... 200 OK\n",
      "Length: 1309 (1.3K) [text/plain]\n",
      "Saving to: ‘/tmp/mpi4py-install.sh’\n",
      "\n",
      "/tmp/mpi4py-install 100%[===================>]   1.28K  --.-KB/s    in 0s      \n",
      "\n",
      "2022-02-02 16:31:42 (113 MB/s) - ‘/tmp/mpi4py-install.sh’ saved [1309/1309]\n",
      "\n",
      "++ MPI4PY_INSTALL_SCRIPT_PATH=/tmp/mpi4py-install.sh\n",
      "++ source /tmp/mpi4py-install.sh\n",
      "+++ set -e\n",
      "+++ set -x\n",
      "+++ GCC_INSTALL_SCRIPT_PATH=https://github.com/fem-on-colab/fem-on-colab.github.io/raw/7a3dea8/releases/gcc-install.sh\n",
      "+++ [[ https://github.com/fem-on-colab/fem-on-colab.github.io/raw/7a3dea8/releases/gcc-install.sh == http* ]]\n",
      "+++ wget https://github.com/fem-on-colab/fem-on-colab.github.io/raw/7a3dea8/releases/gcc-install.sh -O /tmp/gcc-install.sh\n",
      "--2022-02-02 16:31:42--  https://github.com/fem-on-colab/fem-on-colab.github.io/raw/7a3dea8/releases/gcc-install.sh\n",
      "Resolving github.com (github.com)... 140.82.121.3\n",
      "Connecting to github.com (github.com)|140.82.121.3|:443... connected.\n",
      "HTTP request sent, awaiting response... 302 Found\n",
      "Location: https://raw.githubusercontent.com/fem-on-colab/fem-on-colab.github.io/7a3dea8ce493920882c5d454362343dcb42ae92b/releases/gcc-install.sh [following]\n",
      "--2022-02-02 16:31:42--  https://raw.githubusercontent.com/fem-on-colab/fem-on-colab.github.io/7a3dea8ce493920882c5d454362343dcb42ae92b/releases/gcc-install.sh\n",
      "Resolving raw.githubusercontent.com (raw.githubusercontent.com)... 185.199.110.133, 185.199.111.133, 185.199.108.133, ...\n",
      "Connecting to raw.githubusercontent.com (raw.githubusercontent.com)|185.199.110.133|:443... connected.\n",
      "HTTP request sent, awaiting response... 200 OK\n",
      "Length: 3325 (3.2K) [text/plain]\n",
      "Saving to: ‘/tmp/gcc-install.sh’\n",
      "\n",
      "/tmp/gcc-install.sh 100%[===================>]   3.25K  --.-KB/s    in 0s      \n",
      "\n",
      "2022-02-02 16:31:42 (21.1 MB/s) - ‘/tmp/gcc-install.sh’ saved [3325/3325]\n",
      "\n",
      "+++ GCC_INSTALL_SCRIPT_PATH=/tmp/gcc-install.sh\n",
      "+++ source /tmp/gcc-install.sh\n",
      "++++ set -e\n",
      "++++ set -x\n",
      "++++ add-apt-repository -y ppa:ubuntu-toolchain-r/test\n",
      "/tmp/gcc-install.sh: line 11: add-apt-repository: command not found\n",
      "Reading package lists... Done\n",
      "Building dependency tree... Done\n",
      "Reading state information... Done\n",
      "\u001b[1;31mE: \u001b[0mUnable to locate package libgl1-mesa-glx\u001b[0m\n",
      "\u001b[1;31mE: \u001b[0mUnable to locate package xvfb\u001b[0m\n",
      "Collecting pyvista\n",
      "  Downloading pyvista-0.33.2-py3-none-any.whl (1.4 MB)\n",
      "\u001b[K     |████████████████████████████████| 1.4 MB 2.9 MB/s eta 0:00:01\n",
      "\u001b[?25hRequirement already satisfied: numpy in /usr/local/lib/python3.9/dist-packages (from pyvista) (1.21.5)\n",
      "Requirement already satisfied: pillow in /usr/lib/python3/dist-packages (from pyvista) (8.1.2)\n",
      "  Downloading pyvista-0.33.1-py3-none-any.whl (1.4 MB)\n",
      "\u001b[K     |████████████████████████████████| 1.4 MB 9.2 MB/s eta 0:00:01\n",
      "\u001b[?25h  Downloading pyvista-0.33.0-py3-none-any.whl (1.4 MB)\n",
      "\u001b[K     |████████████████████████████████| 1.4 MB 9.5 MB/s eta 0:00:01\n",
      "\u001b[?25h  Downloading pyvista-0.32.1-py3-none-any.whl (1.4 MB)\n",
      "\u001b[K     |████████████████████████████████| 1.4 MB 9.3 MB/s eta 0:00:01\n",
      "\u001b[?25hCollecting meshio<5.0,>=4.0.3\n",
      "  Downloading meshio-4.4.6-py3-none-any.whl (158 kB)\n",
      "\u001b[K     |████████████████████████████████| 158 kB 8.9 MB/s eta 0:00:01\n",
      "\u001b[?25hRequirement already satisfied: typing-extensions in /usr/local/lib/python3.9/dist-packages (from pyvista) (4.0.1)\n",
      "Collecting pyvista\n",
      "  Downloading pyvista-0.32.0-py3-none-any.whl (1.4 MB)\n",
      "\u001b[K     |████████████████████████████████| 1.4 MB 9.4 MB/s eta 0:00:01\n",
      "\u001b[?25h  Downloading pyvista-0.31.3-py3-none-any.whl (1.3 MB)\n",
      "\u001b[K     |████████████████████████████████| 1.3 MB 9.1 MB/s eta 0:00:01\n",
      "\u001b[?25h  Downloading pyvista-0.31.2-py3-none-any.whl (1.3 MB)\n",
      "\u001b[K     |████████████████████████████████| 1.3 MB 8.9 MB/s eta 0:00:01\n",
      "\u001b[?25h  Downloading pyvista-0.31.1-py3-none-any.whl (1.3 MB)\n",
      "\u001b[K     |████████████████████████████████| 1.3 MB 8.8 MB/s eta 0:00:01\n",
      "\u001b[?25h  Downloading pyvista-0.31.0-py3-none-any.whl (1.3 MB)\n",
      "\u001b[K     |████████████████████████████████| 1.3 MB 9.2 MB/s eta 0:00:01\n",
      "\u001b[?25h  Downloading pyvista-0.30.1-py3-none-any.whl (1.2 MB)\n",
      "\u001b[K     |████████████████████████████████| 1.2 MB 9.5 MB/s eta 0:00:01\n",
      "\u001b[?25h  Downloading pyvista-0.30.0-py3-none-any.whl (1.2 MB)\n",
      "\u001b[K     |████████████████████████████████| 1.2 MB 9.5 MB/s eta 0:00:01\n",
      "\u001b[?25h  Downloading pyvista-0.29.1-py3-none-any.whl (1.2 MB)\n",
      "\u001b[K     |████████████████████████████████| 1.2 MB 9.6 MB/s eta 0:00:01\n",
      "\u001b[?25h  Downloading pyvista-0.29.0-py3-none-any.whl (1.2 MB)\n",
      "\u001b[K     |████████████████████████████████| 1.2 MB 9.8 MB/s eta 0:00:01\n",
      "\u001b[?25h  Downloading pyvista-0.28.1-py3-none-any.whl (1.2 MB)\n",
      "\u001b[K     |████████████████████████████████| 1.2 MB 8.1 MB/s eta 0:00:01\n",
      "\u001b[?25h  Downloading pyvista-0.28.0-py3-none-any.whl (1.2 MB)\n",
      "\u001b[K     |████████████████████████████████| 1.2 MB 9.5 MB/s eta 0:00:01\n",
      "\u001b[?25h  Downloading pyvista-0.27.4-py3-none-any.whl (1.2 MB)\n",
      "\u001b[K     |████████████████████████████████| 1.2 MB 9.6 MB/s eta 0:00:01\n",
      "\u001b[?25h  Downloading pyvista-0.27.3-py3-none-any.whl (1.2 MB)\n",
      "\u001b[K     |████████████████████████████████| 1.2 MB 9.4 MB/s eta 0:00:01     |███████████▉                    | 440 kB 9.4 MB/s eta 0:00:01\n",
      "\u001b[?25h  Downloading pyvista-0.27.2-py3-none-any.whl (1.2 MB)\n",
      "\u001b[K     |████████████████████████████████| 1.2 MB 9.3 MB/s eta 0:00:01\n",
      "\u001b[?25h  Downloading pyvista-0.27.1-py3-none-any.whl (1.2 MB)\n",
      "\u001b[K     |████████████████████████████████| 1.2 MB 9.2 MB/s eta 0:00:01     |█▍                              | 51 kB 8.8 MB/s eta 0:00:01\n",
      "\u001b[?25h  Downloading pyvista-0.27.0-py3-none-any.whl (1.2 MB)\n",
      "\u001b[K     |████████████████████████████████| 1.2 MB 9.5 MB/s eta 0:00:01\n",
      "\u001b[?25h  Downloading pyvista-0.26.1-py3-none-any.whl (1.2 MB)\n",
      "\u001b[K     |████████████████████████████████| 1.2 MB 9.1 MB/s eta 0:00:01\n",
      "\u001b[?25h  Downloading pyvista-0.26.0-py3-none-any.whl (1.2 MB)\n",
      "\u001b[K     |████████████████████████████████| 1.2 MB 9.8 MB/s eta 0:00:01\n",
      "\u001b[?25h  Downloading pyvista-0.25.3-py3-none-any.whl (1.2 MB)\n",
      "\u001b[K     |████████████████████████████████| 1.2 MB 9.6 MB/s eta 0:00:01\n",
      "\u001b[?25h  Downloading pyvista-0.25.2-py3-none-any.whl (1.2 MB)\n",
      "\u001b[K     |████████████████████████████████| 1.2 MB 9.2 MB/s eta 0:00:01\n",
      "\u001b[?25h  Downloading pyvista-0.25.1.tar.gz (1.2 MB)\n",
      "\u001b[K     |████████████████████████████████| 1.2 MB 7.8 MB/s eta 0:00:01\n",
      "\u001b[?25hCollecting appdirs\n",
      "  Downloading appdirs-1.4.4-py2.py3-none-any.whl (9.6 kB)\n",
      "Collecting imageio\n",
      "  Downloading imageio-2.14.1-py3-none-any.whl (3.3 MB)\n",
      "\u001b[K     |████████████████████████████████| 3.3 MB 9.2 MB/s eta 0:00:01\n",
      "\u001b[?25hCollecting scooby>=0.5.1\n",
      "  Downloading scooby-0.5.11-py3-none-any.whl (14 kB)\n",
      "Collecting pyvista\n",
      "  Downloading pyvista-0.24.3.tar.gz (1.2 MB)\n",
      "\u001b[K     |████████████████████████████████| 1.2 MB 9.4 MB/s eta 0:00:01\n",
      "\u001b[?25h  Downloading pyvista-0.24.2.tar.gz (1.2 MB)\n",
      "\u001b[K     |████████████████████████████████| 1.2 MB 9.3 MB/s eta 0:00:01\n",
      "\u001b[?25h  Downloading pyvista-0.24.1.tar.gz (1.2 MB)\n",
      "\u001b[K     |████████████████████████████████| 1.2 MB 11.0 MB/s eta 0:00:01\n",
      "\u001b[?25h  Downloading pyvista-0.24.0.tar.gz (1.2 MB)\n",
      "\u001b[K     |████████████████████████████████| 1.2 MB 9.2 MB/s eta 0:00:01\n",
      "\u001b[?25h  Downloading pyvista-0.23.1.tar.gz (1.2 MB)\n",
      "\u001b[K     |████████████████████████████████| 1.2 MB 9.3 MB/s eta 0:00:01\n",
      "\u001b[?25hCollecting meshio>=3.3.0\n",
      "  Downloading meshio-5.3.0-py3-none-any.whl (165 kB)\n",
      "\u001b[K     |████████████████████████████████| 165 kB 9.2 MB/s eta 0:00:01\n",
      "\u001b[?25hCollecting pyvista\n",
      "  Downloading pyvista-0.23.0.tar.gz (1.2 MB)\n",
      "\u001b[K     |████████████████████████████████| 1.2 MB 9.4 MB/s eta 0:00:01\n",
      "\u001b[?25h  Downloading pyvista-0.22.4.tar.gz (1.2 MB)\n",
      "\u001b[K     |████████████████████████████████| 1.2 MB 9.7 MB/s eta 0:00:01\n",
      "\u001b[?25h  Downloading pyvista-0.22.2.tar.gz (1.2 MB)\n",
      "\u001b[K     |████████████████████████████████| 1.2 MB 9.3 MB/s eta 0:00:01\n",
      "\u001b[?25h  Downloading pyvista-0.22.1.tar.gz (1.2 MB)\n",
      "\u001b[K     |████████████████████████████████| 1.2 MB 10.3 MB/s eta 0:00:01\n",
      "\u001b[?25h  Downloading pyvista-0.22.0.tar.gz (1.2 MB)\n",
      "\u001b[K     |████████████████████████████████| 1.2 MB 10.1 MB/s eta 0:00:01\n",
      "\u001b[?25h  Downloading pyvista-0.21.4.tar.gz (1.1 MB)\n",
      "\u001b[K     |████████████████████████████████| 1.1 MB 33.9 MB/s eta 0:00:01\n",
      "\u001b[?25h  Downloading pyvista-0.21.3.tar.gz (1.1 MB)\n",
      "\u001b[K     |████████████████████████████████| 1.1 MB 9.6 MB/s eta 0:00:01\n",
      "\u001b[?25h  Downloading pyvista-0.21.2.tar.gz (1.1 MB)\n",
      "\u001b[K     |████████████████████████████████| 1.1 MB 11.0 MB/s eta 0:00:01\n",
      "\u001b[?25h  Downloading pyvista-0.21.1.tar.gz (1.1 MB)\n",
      "\u001b[K     |████████████████████████████████| 1.1 MB 12.6 MB/s eta 0:00:01\n",
      "\u001b[?25h  Downloading pyvista-0.21.0.tar.gz (1.1 MB)\n",
      "\u001b[K     |████████████████████████████████| 1.1 MB 8.8 MB/s eta 0:00:01\n",
      "\u001b[?25h  Downloading pyvista-0.20.4.tar.gz (1.1 MB)\n",
      "\u001b[K     |████████████████████████████████| 1.1 MB 7.2 MB/s eta 0:00:01\n",
      "\u001b[?25h  Downloading pyvista-0.20.3.tar.gz (1.1 MB)\n",
      "\u001b[K     |████████████████████████████████| 1.1 MB 9.0 MB/s eta 0:00:01\n",
      "\u001b[?25h  Downloading pyvista-0.20.2.tar.gz (1.1 MB)\n",
      "\u001b[K     |████████████████████████████████| 1.1 MB 9.0 MB/s eta 0:00:01\n",
      "\u001b[?25h  Downloading pyvista-0.20.1.tar.gz (1.1 MB)\n",
      "\u001b[K     |████████████████████████████████| 1.1 MB 9.4 MB/s eta 0:00:01\n",
      "\u001b[?25h  Downloading pyvista-0.20.0.tar.gz (1.1 MB)\n",
      "\u001b[K     |████████████████████████████████| 1.1 MB 9.8 MB/s eta 0:00:01\n",
      "\u001b[31mERROR: Cannot install pyvista==0.20.0, pyvista==0.20.1, pyvista==0.20.2, pyvista==0.20.3, pyvista==0.20.4, pyvista==0.21.0, pyvista==0.21.1, pyvista==0.21.2, pyvista==0.21.3, pyvista==0.21.4, pyvista==0.22.0, pyvista==0.22.1, pyvista==0.22.2, pyvista==0.22.4, pyvista==0.23.0, pyvista==0.23.1, pyvista==0.24.0, pyvista==0.24.1, pyvista==0.24.2, pyvista==0.24.3, pyvista==0.25.1, pyvista==0.25.2, pyvista==0.25.3, pyvista==0.26.0, pyvista==0.26.1, pyvista==0.27.0, pyvista==0.27.1, pyvista==0.27.2, pyvista==0.27.3, pyvista==0.27.4, pyvista==0.28.0, pyvista==0.28.1, pyvista==0.29.0, pyvista==0.29.1, pyvista==0.30.0, pyvista==0.30.1, pyvista==0.31.0, pyvista==0.31.1, pyvista==0.31.2, pyvista==0.31.3, pyvista==0.32.0, pyvista==0.32.1, pyvista==0.33.0, pyvista==0.33.1 and pyvista==0.33.2 because these package versions have conflicting dependencies.\u001b[0m\n",
      "\u001b[?25h\n",
      "The conflict is caused by:\n",
      "    pyvista 0.33.2 depends on vtk\n",
      "    pyvista 0.33.1 depends on vtk\n",
      "    pyvista 0.33.0 depends on vtk\n",
      "    pyvista 0.32.1 depends on vtk\n",
      "    pyvista 0.32.0 depends on vtk\n",
      "    pyvista 0.31.3 depends on vtk\n",
      "    pyvista 0.31.2 depends on vtk\n",
      "    pyvista 0.31.1 depends on vtk\n",
      "    pyvista 0.31.0 depends on vtk\n",
      "    pyvista 0.30.1 depends on vtk\n",
      "    pyvista 0.30.0 depends on vtk\n",
      "    pyvista 0.29.1 depends on vtk\n",
      "    pyvista 0.29.0 depends on vtk\n",
      "    pyvista 0.28.1 depends on vtk\n",
      "    pyvista 0.28.0 depends on vtk\n",
      "    pyvista 0.27.4 depends on vtk\n",
      "    pyvista 0.27.3 depends on vtk\n",
      "    pyvista 0.27.2 depends on vtk\n",
      "    pyvista 0.27.1 depends on vtk\n",
      "    pyvista 0.27.0 depends on vtk\n",
      "    pyvista 0.26.1 depends on vtk\n",
      "    pyvista 0.26.0 depends on vtk\n",
      "    pyvista 0.25.3 depends on vtk\n",
      "    pyvista 0.25.2 depends on vtk\n",
      "    pyvista 0.25.1 depends on vtk\n",
      "    pyvista 0.24.3 depends on vtk\n",
      "    pyvista 0.24.2 depends on vtk\n",
      "    pyvista 0.24.1 depends on vtk\n",
      "    pyvista 0.24.0 depends on vtk\n",
      "    pyvista 0.23.1 depends on vtk\n",
      "    pyvista 0.23.0 depends on vtk\n",
      "    pyvista 0.22.4 depends on vtk\n",
      "    pyvista 0.22.2 depends on vtk\n",
      "    pyvista 0.22.1 depends on vtk\n",
      "    pyvista 0.22.0 depends on vtk\n",
      "    pyvista 0.21.4 depends on vtk\n",
      "    pyvista 0.21.3 depends on vtk\n",
      "    pyvista 0.21.2 depends on vtk\n",
      "    pyvista 0.21.1 depends on vtk\n",
      "    pyvista 0.21.0 depends on vtk\n",
      "    pyvista 0.20.4 depends on vtk\n",
      "    pyvista 0.20.3 depends on vtk\n",
      "    pyvista 0.20.2 depends on vtk\n",
      "    pyvista 0.20.1 depends on vtk\n",
      "    pyvista 0.20.0 depends on vtk\n",
      "\n",
      "To fix this you could try to:\n",
      "1. loosen the range of package versions you've specified\n",
      "2. remove package versions to allow pip attempt to solve the dependency conflict\n",
      "\n",
      "\u001b[31mERROR: ResolutionImpossible: for help visit https://pip.pypa.io/en/latest/user_guide/#fixing-conflicting-dependencies\u001b[0m\n"
     ]
    }
   ],
   "source": [
    "!wget \"https://fem-on-colab.github.io/releases/fenicsx-install-real.sh\" -O \"/tmp/fenicsx-install.sh\" && bash \"/tmp/fenicsx-install.sh\"\n",
    "!wget \"https://fem-on-colab.github.io/releases/gmsh-install.sh\" -O \"/tmp/gmsh-install.sh\" && bash \"/tmp/gmsh-install.sh\"\n",
    "!apt install libgl1-mesa-glx xvfb\n",
    "!pip install pyvista"
   ]
  },
  {
   "cell_type": "markdown",
   "id": "19c05b44",
   "metadata": {},
   "source": [
    "\n",
    "# Poisson equation\n",
    "\n",
    "This notebook is based on the introductory DOLFINx demo `demo_poisson.py`. In\n",
    "addition, it attempts to describe some of the 'magic' behind-the-scenes in a\n",
    "modern automatic finite element code.\n",
    "\n",
    "## Equation and problem definition\n",
    "\n",
    "We we solve the Poisson equation subject to both Dirichlet and Neumann\n",
    "boundary conditions\n",
    "\n",
    "$$\n",
    "\\begin{align}\n",
    "   - \\nabla^{2} u &= f \\quad {\\rm in} \\ \\Omega, \\\\\n",
    "                u &= 0 \\quad {\\rm on} \\ \\Gamma_{D}, \\\\\n",
    "                \\nabla u \\cdot n &= g \\quad {\\rm on} \\ \\Gamma_{N}. \\\\\n",
    "\\end{align}\n",
    "$$\n",
    "\n",
    "Here, $f$ and $g$ are input data and $n$ denotes the outward directed\n",
    "boundary normal. The most standard variational form of Poisson equation\n",
    "reads: find $u \\in V$ such that\n",
    "\n",
    "$$a(u, v) = L(v) \\quad \\forall \\ v \\in V,$$\n",
    "\n",
    "where $V$ will be a P1 finite element space and the bilinear and linear\n",
    "forms are defined as\n",
    "\n",
    "$$\n",
    "\\begin{align}\n",
    "a(u, v) &= \\int_{\\Omega} \\nabla u \\cdot \\nabla v \\, {\\rm d}\n",
    "x, \\\\\n",
    "L(v)    &= \\int_{\\Omega} f v \\, {\\rm d} x\n",
    "+ \\int_{\\Gamma_{N}} g v \\, {\\rm d} s.\n",
    "\\end{align}\n",
    "$$\n",
    "\n",
    "We shall consider the following definitions of the input functions, the\n",
    "domain, and the boundaries:\n",
    "\n",
    "* $\\Omega = [0,1] \\times [2,1]$ (a rectangle)\n",
    "* $\\Gamma_{D} = \\{(0, y) \\cup (1, y) \\subset \\partial \\Omega\\}$\n",
    "  (Dirichlet boundary)\n",
    "* $\\Gamma_{N} = \\{(x, 0) \\cup (x, 1) \\subset \\partial \\Omega\\}$\n",
    "  (Neumann boundary)\n",
    "* $g = \\sin(5x)$ (normal derivative on $\\Gamma_N$)\n",
    "* $f = 10\\exp(-((x - 0.5)^2 + (y - 0.5)^2) / 0.02)$ (source term in $\\Omega$)\n",
    "\n",
    "## Implementation\n",
    "\n",
    "This description goes through the implementation of a solver for the above\n",
    "described Poisson equation step-by-step.\n",
    "\n",
    "First, the necessary modules are imported:"
   ]
  },
  {
   "cell_type": "code",
   "execution_count": 2,
   "id": "b323797a",
   "metadata": {
    "execution": {
     "iopub.execute_input": "2022-02-02T16:31:57.981591Z",
     "iopub.status.busy": "2022-02-02T16:31:57.981342Z",
     "iopub.status.idle": "2022-02-02T16:31:58.325129Z",
     "shell.execute_reply": "2022-02-02T16:31:58.324911Z"
    }
   },
   "outputs": [],
   "source": [
    "import numpy as np\n",
    "\n",
    "import ufl\n",
    "from dolfinx import fem, io, mesh, plot\n",
    "from ufl import ds, dx, exp, grad, inner, sin\n",
    "\n",
    "from mpi4py import MPI\n",
    "from petsc4py.PETSc import ScalarType"
   ]
  },
  {
   "cell_type": "markdown",
   "id": "e065ed50",
   "metadata": {
    "lines_to_next_cell": 2
   },
   "source": [
    "We begin by defining a mesh of the domain and a finite element function space\n",
    "$V$ defined on the mesh. We create a rectangular mesh using built-in function\n",
    "provided by method `create_rectangle`. In order to create a mesh consisting\n",
    "of 32 x 16 rectangles with each rectangle divided into two triangles, we do as\n",
    "follows:"
   ]
  },
  {
   "cell_type": "code",
   "execution_count": 3,
   "id": "3685782e",
   "metadata": {
    "execution": {
     "iopub.execute_input": "2022-02-02T16:31:58.330226Z",
     "iopub.status.busy": "2022-02-02T16:31:58.329741Z",
     "iopub.status.idle": "2022-02-02T16:31:58.436457Z",
     "shell.execute_reply": "2022-02-02T16:31:58.436247Z"
    }
   },
   "outputs": [],
   "source": [
    "rectangle_mesh = mesh.create_rectangle(\n",
    "    comm=MPI.COMM_WORLD,\n",
    "    points=((0.0, 0.0), (2.0, 1.0)),\n",
    "    n=(32, 16),\n",
    "    cell_type=mesh.CellType.triangle\n",
    ")\n",
    "\n",
    "V = fem.FunctionSpace(rectangle_mesh, (\"Lagrange\", 1))"
   ]
  },
  {
   "cell_type": "markdown",
   "id": "039653f6",
   "metadata": {
    "lines_to_next_cell": 2
   },
   "source": [
    "The second argument to `FunctionSpace` is a tuple consisting of ``(family,\n",
    "degree)``, where `family` is the finite element family, and ``degree``\n",
    "specifies the polynomial degree. Thus, in this case, our space `V` consists\n",
    "of first-order continuous Lagrange finite element functions.\n",
    "\n",
    "Next, we want to consider the Dirichlet boundary condition. A simple Python\n",
    "function, returning a boolean, can be used to define the boundary for the\n",
    "Dirichlet boundary condition ($\\Gamma_D$). The function should return `True`\n",
    "for those points on the boundary and `False` for the points outside. In our\n",
    "case, we want to say that the points $(x, y)$ such that $x = 0$ or\n",
    "$x = 1$ are on $\\Gamma_D$."
   ]
  },
  {
   "cell_type": "code",
   "execution_count": 4,
   "id": "e8b86a9c",
   "metadata": {
    "execution": {
     "iopub.execute_input": "2022-02-02T16:31:58.439232Z",
     "iopub.status.busy": "2022-02-02T16:31:58.439049Z",
     "iopub.status.idle": "2022-02-02T16:31:58.440413Z",
     "shell.execute_reply": "2022-02-02T16:31:58.440235Z"
    }
   },
   "outputs": [],
   "source": [
    "# Create a function that takes an array of points x and returns an array of\n",
    "# `True` or `False` if the point is or is not on the boundary\n",
    "def marker(x): return np.logical_or(\n",
    "    np.isclose(x[0], 0.0), np.isclose(x[0], 2.0))"
   ]
  },
  {
   "cell_type": "markdown",
   "id": "4e5b74e6",
   "metadata": {
    "lines_to_next_cell": 2
   },
   "source": [
    "To identify the degrees of freedom, we first find the facets (entities of\n",
    "dimension 1) that live on the boundary of the mesh, and satisfies our\n",
    "criteria for `\\Gamma_D`."
   ]
  },
  {
   "cell_type": "code",
   "execution_count": 5,
   "id": "862b270d",
   "metadata": {
    "execution": {
     "iopub.execute_input": "2022-02-02T16:31:58.443061Z",
     "iopub.status.busy": "2022-02-02T16:31:58.442140Z",
     "iopub.status.idle": "2022-02-02T16:31:58.445137Z",
     "shell.execute_reply": "2022-02-02T16:31:58.444973Z"
    }
   },
   "outputs": [],
   "source": [
    "# Define boundary condition on x = 0 or x = 1\n",
    "facets = mesh.locate_entities_boundary(rectangle_mesh, dim=1, marker=marker)"
   ]
  },
  {
   "cell_type": "markdown",
   "id": "d1e4e58a",
   "metadata": {},
   "source": [
    "Then, we use the function `locate_dofs_topological` to identify all degrees\n",
    "of freedom that is located on those facets (including the vertices)."
   ]
  },
  {
   "cell_type": "code",
   "execution_count": 6,
   "id": "4fc77abf",
   "metadata": {
    "execution": {
     "iopub.execute_input": "2022-02-02T16:31:58.447140Z",
     "iopub.status.busy": "2022-02-02T16:31:58.446965Z",
     "iopub.status.idle": "2022-02-02T16:31:58.448840Z",
     "shell.execute_reply": "2022-02-02T16:31:58.448632Z"
    }
   },
   "outputs": [],
   "source": [
    "dofs = fem.locate_dofs_topological(V=V, entity_dim=1, entities=facets)"
   ]
  },
  {
   "cell_type": "markdown",
   "id": "f0b0759b",
   "metadata": {},
   "source": [
    "The Dirichlet boundary condition can be created using the method\n",
    "`dirichletbc`. `dirichletbc` takes three arguments: the value of the boundary\n",
    "condition, the degrees of freedom on which the condition applies to, and the\n",
    "function space. The final definition of the Dirichlet boundary condition is\n",
    "then:"
   ]
  },
  {
   "cell_type": "code",
   "execution_count": 7,
   "id": "0135092d",
   "metadata": {
    "execution": {
     "iopub.execute_input": "2022-02-02T16:31:58.450945Z",
     "iopub.status.busy": "2022-02-02T16:31:58.450649Z",
     "iopub.status.idle": "2022-02-02T16:31:58.452484Z",
     "shell.execute_reply": "2022-02-02T16:31:58.452323Z"
    }
   },
   "outputs": [],
   "source": [
    "bc = fem.dirichletbc(value=ScalarType(0), dofs=dofs, V=V)"
   ]
  },
  {
   "cell_type": "markdown",
   "id": "4d4ed6a3",
   "metadata": {},
   "source": [
    "Next, we want to express the variational problem.  First, we need to specify\n",
    "the trial function `u` and the test function `v`, both living in the function\n",
    "space `V`. We do this by defining a `TrialFunction` and a `TestFunction` on\n",
    "the previously defined `FunctionSpace` `V`.\n",
    "\n",
    "Further, the source $f$ and the boundary normal derivative $g$ are involved\n",
    "in the variational forms, and hence we must specify these.\n",
    "\n",
    "With these ingredients, we can write down the bilinear form `a` and\n",
    "the linear form `L` (using UFL operators). In summary, this reads"
   ]
  },
  {
   "cell_type": "code",
   "execution_count": 8,
   "id": "43ade830",
   "metadata": {
    "execution": {
     "iopub.execute_input": "2022-02-02T16:31:58.455336Z",
     "iopub.status.busy": "2022-02-02T16:31:58.455157Z",
     "iopub.status.idle": "2022-02-02T16:31:58.456651Z",
     "shell.execute_reply": "2022-02-02T16:31:58.456846Z"
    }
   },
   "outputs": [],
   "source": [
    "# Define variational problem\n",
    "u = ufl.TrialFunction(V)\n",
    "v = ufl.TestFunction(V)\n",
    "x = ufl.SpatialCoordinate(rectangle_mesh)\n",
    "f = 10 * exp(-((x[0] - 0.5)**2 + (x[1] - 0.5)**2) / 0.02)\n",
    "g = sin(5 * x[0])\n",
    "a = inner(grad(u), grad(v)) * dx\n",
    "L = inner(f, v) * dx + inner(g, v) * ds"
   ]
  },
  {
   "cell_type": "markdown",
   "id": "ca36958b",
   "metadata": {},
   "source": [
    "Next, we initialize a solver using the `LinearProblem` class.\n",
    "This class is initialized with the arguments ``a``, ``L``, and ``bc`` as\n",
    "follows: In this problem, we use a direct LU solver from PETSc, which is\n",
    "defined through the dictionary ``petsc_options``."
   ]
  },
  {
   "cell_type": "code",
   "execution_count": 9,
   "id": "15586085",
   "metadata": {
    "execution": {
     "iopub.execute_input": "2022-02-02T16:31:58.464020Z",
     "iopub.status.busy": "2022-02-02T16:31:58.458687Z",
     "iopub.status.idle": "2022-02-02T16:31:58.728720Z",
     "shell.execute_reply": "2022-02-02T16:31:58.728512Z"
    }
   },
   "outputs": [],
   "source": [
    "problem = fem.LinearProblem(a, L, bcs=[bc], petsc_options={\n",
    "                            \"ksp_type\": \"preonly\", \"pc_type\": \"lu\"})"
   ]
  },
  {
   "cell_type": "markdown",
   "id": "889f11c0",
   "metadata": {},
   "source": [
    "Now, we have specified the variational forms and can consider the solution of\n",
    "the variational problem. The method `problem.solve()` returns a `Function`\n",
    "`uh` containing the solution. A `Function` represents a function living in a\n",
    "finite element function space."
   ]
  },
  {
   "cell_type": "code",
   "execution_count": 10,
   "id": "7cc65845",
   "metadata": {
    "execution": {
     "iopub.execute_input": "2022-02-02T16:31:58.732141Z",
     "iopub.status.busy": "2022-02-02T16:31:58.731943Z",
     "iopub.status.idle": "2022-02-02T16:31:58.733429Z",
     "shell.execute_reply": "2022-02-02T16:31:58.733566Z"
    }
   },
   "outputs": [],
   "source": [
    "uh = problem.solve()"
   ]
  },
  {
   "cell_type": "markdown",
   "id": "eba246e7",
   "metadata": {},
   "source": [
    "The function `u` will be modified during the call to solve. The default\n",
    "settings for solving a variational problem have been used. However, the\n",
    "solution process can be controlled in much more detail if desired.\n",
    "\n",
    "A `Function` can be plotted and saved to file. Here, we output the solution\n",
    "to an XDMF file for later visualization and also plot it using pyvista"
   ]
  },
  {
   "cell_type": "code",
   "execution_count": 11,
   "id": "703b1a1e",
   "metadata": {
    "execution": {
     "iopub.execute_input": "2022-02-02T16:31:58.758682Z",
     "iopub.status.busy": "2022-02-02T16:31:58.736313Z",
     "iopub.status.idle": "2022-02-02T16:31:58.763101Z",
     "shell.execute_reply": "2022-02-02T16:31:58.762897Z"
    }
   },
   "outputs": [
    {
     "name": "stdout",
     "output_type": "stream",
     "text": [
      "pyvista not installed\n"
     ]
    }
   ],
   "source": [
    "# Save solution in XDMF format\n",
    "with io.XDMFFile(rectangle_mesh.comm, \"poisson.xdmf\", \"w\") as file:\n",
    "    file.write_mesh(rectangle_mesh)\n",
    "    file.write_function(uh)\n",
    "\n",
    "try:\n",
    "    import pyvista\n",
    "    pyvista.set_jupyter_backend(\"static\")\n",
    "    cells, types, x = plot.create_vtk_mesh(V)\n",
    "    grid = pyvista.UnstructuredGrid(cells, types, x)\n",
    "    grid.point_data[\"u\"] = uh.x.array.real\n",
    "    grid.set_active_scalars(\"u\")\n",
    "\n",
    "    plotter = pyvista.Plotter(notebook=True)\n",
    "    plotter.add_mesh(grid, show_edges=True)\n",
    "    warped = grid.warp_by_scalar()\n",
    "    plotter.add_mesh(warped)\n",
    "    plotter.show()\n",
    "except ImportError:\n",
    "    print(\"pyvista not installed\")"
   ]
  }
 ],
 "metadata": {
  "jupytext": {
   "cell_metadata_filter": "-all"
  },
  "kernelspec": {
   "display_name": "Python 3 (ipykernel)",
   "language": "python",
   "name": "python3"
  },
  "language_info": {
   "codemirror_mode": {
    "name": "ipython",
    "version": 3
   },
   "file_extension": ".py",
   "mimetype": "text/x-python",
   "name": "python",
   "nbconvert_exporter": "python",
   "pygments_lexer": "ipython3",
   "version": "3.9.10"
  }
 },
 "nbformat": 4,
 "nbformat_minor": 5
}
